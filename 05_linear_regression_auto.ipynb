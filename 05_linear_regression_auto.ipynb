{
  "nbformat": 4,
  "nbformat_minor": 0,
  "metadata": {
    "colab": {
      "name": "05_linear_regression_auto.ipynb",
      "provenance": [],
      "collapsed_sections": []
    },
    "kernelspec": {
      "name": "python3",
      "display_name": "Python 3"
    }
  },
  "cells": [
    {
      "cell_type": "markdown",
      "metadata": {
        "id": "vsmZaZJWRgks",
        "colab_type": "text"
      },
      "source": [
        "## Linear Regression -- Converting manual computation to automatic\n",
        "In this exercise we will convert manual computation of `forward()` `backward()` and `loss()` to pytorch framework functions. "
      ]
    },
    {
      "cell_type": "markdown",
      "metadata": {
        "id": "s3tfmRFLSyt5",
        "colab_type": "text"
      },
      "source": [
        "**A Recap**\n",
        " For each epoch, we computed following: \n",
        "\n",
        "*   `forward()` : Nodes operation and output prediction.\n",
        "*   `loss()` : Calculated the loss between expected VS predicted outputs.\n",
        "*   `backward()` : Computed gradients.\n",
        "*   `nudge weights` : Updated weights. \n",
        "\n",
        "Ran `n` number of epochs to reduce loss to minimum. This loop is called **Training Loop**. \n",
        "\n",
        "At a point where the loss is minimum and it do not decrease any further is the time where we can stop training. These trained weights are called **model**, this model is used for further predictions, called **inference**. During inference we just run forward pass and weights remain unchanged. "
      ]
    },
    {
      "cell_type": "code",
      "metadata": {
        "id": "y4NPy_26PhSW",
        "colab_type": "code",
        "colab": {
          "base_uri": "https://localhost:8080/",
          "height": 34
        },
        "outputId": "ce6b8f98-ffc4-44ba-9cc2-b347ce7d5ed5"
      },
      "source": [
        "#\n",
        "# Input data\n",
        "# x = [1, 2, 3, 4, 5]\n",
        "# y = [2, 4, 5, 4, 5]\n",
        "# Expected output\n",
        "# w = 0.6\n",
        "\n",
        "from __future__ import print_function\n",
        "import torch \n",
        "import torch.nn as nn\n",
        "import matplotlib.pyplot as plt\n",
        "\n",
        "seed = 2277\n",
        "torch.manual_seed(seed)"
      ],
      "execution_count": 1,
      "outputs": [
        {
          "output_type": "execute_result",
          "data": {
            "text/plain": [
              "<torch._C.Generator at 0x7f5468a64e30>"
            ]
          },
          "metadata": {
            "tags": []
          },
          "execution_count": 1
        }
      ]
    },
    {
      "cell_type": "code",
      "metadata": {
        "id": "5nuxiXMDX7hx",
        "colab_type": "code",
        "colab": {}
      },
      "source": [
        "X = torch.tensor([[1], [2], [3], [4], [5]], dtype=torch.float32)\n",
        "Y = torch.tensor([[2], [4], [5], [4], [5]], dtype=torch.float32)"
      ],
      "execution_count": 0,
      "outputs": []
    },
    {
      "cell_type": "code",
      "metadata": {
        "id": "vWsjL32SPhMM",
        "colab_type": "code",
        "colab": {}
      },
      "source": [
        "# From now on we will call forward() as our model.\n",
        "model = nn.Linear(X.shape[1], Y.shape[1])"
      ],
      "execution_count": 0,
      "outputs": []
    },
    {
      "cell_type": "markdown",
      "metadata": {
        "id": "C6vcM22VW0LA",
        "colab_type": "text"
      },
      "source": [
        "Wait! this is the first framework API we used to built Linear model. For its documentaion please [visit](https://pytorch.org/docs/stable/nn.html#torch.nn.Linear). Where, Parameters:\n",
        "\n",
        "\n",
        "\n",
        "bias – If set to False, the layer will not learn an additive bias. Default: True\n",
        "\n",
        "*   **in_features** – size of each input sample (i.e. size of x)\n",
        "*   **out_features** – size of each output sample (i.e. size of y)\n",
        "*   **bias** – If set to False, the layer will not learn an additive bias. Default: True\n",
        "\n"
      ]
    },
    {
      "cell_type": "markdown",
      "metadata": {
        "id": "GoAp5b8YFQSb",
        "colab_type": "text"
      },
      "source": [
        "In the below code snippet, we are using MSE `nn.MSELoss()` to calculate the loss and `torch.optim.SGD` optimizer for weights update.   "
      ]
    },
    {
      "cell_type": "code",
      "metadata": {
        "id": "Pdu-Q3iacbF1",
        "colab_type": "code",
        "colab": {
          "base_uri": "https://localhost:8080/",
          "height": 272
        },
        "outputId": "6d48171d-d0a3-4341-8ecb-76b8678d6bad"
      },
      "source": [
        "lr = 0.01\n",
        "epochs = 1500\n",
        "\n",
        "loss = nn.MSELoss()\n",
        "optimizer = torch.optim.SGD(model.parameters(), lr=lr)\n",
        "\n",
        "# Training loop\n",
        "for epoch in range(epochs):\n",
        "    # forward pass\n",
        "    y_pred = model(X)\n",
        "\n",
        "    # loss\n",
        "    l = loss(Y, y_pred)\n",
        "\n",
        "    # backward pass\n",
        "    l.backward()\n",
        "\n",
        "    # nudge weights, causes optimizer to take a step based on the gradients of the parameters.\n",
        "    optimizer.step()\n",
        "\n",
        "    # clears old gradients from the last step\n",
        "    optimizer.zero_grad()\n",
        "\n",
        "    if epoch % 100 == 0:\n",
        "        [w, b] = model.parameters() # unpack parameters\n",
        "        print('epoch {}: w = {:.3f} b = {:.3f} loss = {}'.format((epoch+1), w.item(), b.item(), l))"
      ],
      "execution_count": 4,
      "outputs": [
        {
          "output_type": "stream",
          "text": [
            "epoch 1: w = 0.428 b = 0.097 loss = 11.874579429626465\n",
            "epoch 101: w = 0.977 b = 0.839 loss = 0.819404125213623\n",
            "epoch 201: w = 0.869 b = 1.230 loss = 0.6524061560630798\n",
            "epoch 301: w = 0.791 b = 1.509 loss = 0.56757652759552\n",
            "epoch 401: w = 0.736 b = 1.707 loss = 0.5244860649108887\n",
            "epoch 501: w = 0.697 b = 1.849 loss = 0.5025975108146667\n",
            "epoch 601: w = 0.669 b = 1.950 loss = 0.49147891998291016\n",
            "epoch 701: w = 0.649 b = 2.022 loss = 0.4858308732509613\n",
            "epoch 801: w = 0.635 b = 2.073 loss = 0.4829619526863098\n",
            "epoch 901: w = 0.625 b = 2.109 loss = 0.48150452971458435\n",
            "epoch 1001: w = 0.618 b = 2.135 loss = 0.4807642102241516\n",
            "epoch 1101: w = 0.613 b = 2.154 loss = 0.4803883135318756\n",
            "epoch 1201: w = 0.609 b = 2.167 loss = 0.4801971912384033\n",
            "epoch 1301: w = 0.606 b = 2.177 loss = 0.4801000654697418\n",
            "epoch 1401: w = 0.605 b = 2.183 loss = 0.4800508916378021\n"
          ],
          "name": "stdout"
        }
      ]
    },
    {
      "cell_type": "code",
      "metadata": {
        "id": "V3bqZIFiKAfP",
        "colab_type": "code",
        "colab": {
          "base_uri": "https://localhost:8080/",
          "height": 51
        },
        "outputId": "4f70c163-c045-4fd7-a9cf-6f807a3be90e"
      },
      "source": [
        "model.weight"
      ],
      "execution_count": 5,
      "outputs": [
        {
          "output_type": "execute_result",
          "data": {
            "text/plain": [
              "Parameter containing:\n",
              "tensor([[0.6033]], requires_grad=True)"
            ]
          },
          "metadata": {
            "tags": []
          },
          "execution_count": 5
        }
      ]
    },
    {
      "cell_type": "code",
      "metadata": {
        "id": "I3xfjYXYKbD-",
        "colab_type": "code",
        "colab": {
          "base_uri": "https://localhost:8080/",
          "height": 102
        },
        "outputId": "3a47df85-5ea9-4aac-ab56-3ae8b860febc"
      },
      "source": [
        "# Number of parameters \n",
        "print('Number of parameters : {}'.format(len(list(model.parameters()))))\n",
        "print('\\nList of parameters : {}'.format(list(model.parameters())))"
      ],
      "execution_count": 6,
      "outputs": [
        {
          "output_type": "stream",
          "text": [
            "Number of parameters : 2\n",
            "\n",
            "List of parameters : [Parameter containing:\n",
            "tensor([[0.6033]], requires_grad=True), Parameter containing:\n",
            "tensor([2.1881], requires_grad=True)]\n"
          ],
          "name": "stdout"
        }
      ]
    },
    {
      "cell_type": "markdown",
      "metadata": {
        "id": "HOk75f1ON7JM",
        "colab_type": "text"
      },
      "source": [
        "# Working with large and Real dataset. \n",
        "We will perform the same exercise that we performed above but this time with sklearn toy dataset. Now that we are close to start playing with real world data, best time to read Andrej Karpathy's article '[A Recipe for Training Neural Networks](http://karpathy.github.io/2019/04/25/recipe/)'. Honestly, to me this is real GEM :)  "
      ]
    },
    {
      "cell_type": "code",
      "metadata": {
        "id": "SdssRp74ZiBw",
        "colab_type": "code",
        "colab": {}
      },
      "source": [
        "import torch\n",
        "import torch.nn as nn\n",
        "import numpy as np\n",
        "from sklearn.datasets import load_boston\n",
        "from sklearn.preprocessing import StandardScaler\n",
        "from sklearn.model_selection import train_test_split\n",
        "import matplotlib.pyplot as plt"
      ],
      "execution_count": 0,
      "outputs": []
    },
    {
      "cell_type": "code",
      "metadata": {
        "id": "hhUPJ1bscP5P",
        "colab_type": "code",
        "colab": {
          "base_uri": "https://localhost:8080/",
          "height": 265
        },
        "outputId": "10517b38-2e30-4330-e21c-94641a4ca9d6"
      },
      "source": [
        "# Toy dataset\n",
        "boston = load_boston()\n",
        "X, Y = boston.data, boston.target\n",
        "\n",
        "X_train, X_test, Y_train, Y_test = train_test_split(X, Y, test_size=0.25, random_state=999)\n",
        "X_train = X_train[:, 4:5]\n",
        "\n",
        "# Z-Score : Normalize and standardized data (z = (x - u) / s)\n",
        "sc = StandardScaler()\n",
        "X_train = sc.fit_transform(X_train)\n",
        "X_test = sc.transform(X_test)\n",
        "plt.plot(X_train, Y_train, 'rx')\n",
        "\n",
        "X_train = torch.from_numpy(X_train.astype(np.float32))\n",
        "X_test = torch.from_numpy(X_test.astype(np.float32))\n",
        "Y_train = torch.from_numpy(Y_train.astype(np.float32))\n",
        "Y_test = torch.from_numpy(Y_test.astype(np.float32))\n",
        "\n",
        "Y_train = Y_train.view(Y_train.shape[0], 1)\n",
        "Y_test = Y_test.view(Y_test.shape[0], 1)"
      ],
      "execution_count": 8,
      "outputs": [
        {
          "output_type": "display_data",
          "data": {
            "image/png": "[encoded data removed]",
            "text/plain": [
              "<Figure size 432x288 with 1 Axes>"
            ]
          },
          "metadata": {
            "tags": [],
            "needs_background": "light"
          }
        }
      ]
    },
    {
      "cell_type": "code",
      "metadata": {
        "id": "huDGgLP84zqg",
        "colab_type": "code",
        "colab": {
          "base_uri": "https://localhost:8080/",
          "height": 605
        },
        "outputId": "af57ab56-0282-4684-fa37-50f1a059df2b"
      },
      "source": [
        "num_samples, num_features = X_train.shape\n",
        "\n",
        "# Linear Model\n",
        "model = nn.Linear(num_features, 1)\n",
        "\n",
        "lr = 0.01\n",
        "loss = nn.MSELoss()\n",
        "optimizer = torch.optim.SGD(model.parameters(), lr=lr)\n",
        "\n",
        "# Training loop\n",
        "epochs = 200\n",
        "for epoch in range(epochs):\n",
        "    \n",
        "    # forward pass\n",
        "    Y_pred = model(X_train)\n",
        "\n",
        "    # loss\n",
        "    l = loss(Y_train, Y_pred)\n",
        "    \n",
        "    # Backward pass and update\n",
        "    l.backward()\n",
        "    \n",
        "    # nudge weights, causes optimizer to take a step based on the gradients of the parameters.\n",
        "    optimizer.step()\n",
        "\n",
        "    # clears old gradients from the last step\n",
        "    optimizer.zero_grad()\n",
        "\n",
        "    if (epoch+1) % 10 == 0:\n",
        "        [w, b] = model.parameters() # unpack parameters\n",
        "        print('epoch {}: w = {:.3f} b = {:.3f} loss = {}'.format((epoch+1), w.item(), b.item(), l))\n",
        "\n",
        "# Inference: all the X_train points.  \n",
        "predicted = model(X_train).detach().numpy()\n",
        "plt.plot(X_train, Y_train, 'rx')\n",
        "plt.plot(X_train, predicted, 'b')\n",
        "plt.show()"
      ],
      "execution_count": 9,
      "outputs": [
        {
          "output_type": "stream",
          "text": [
            "epoch 10: w = -0.252 b = 4.834 loss = 414.504150390625\n",
            "epoch 20: w = -0.910 b = 8.072 loss = 301.5845031738281\n",
            "epoch 30: w = -1.448 b = 10.717 loss = 226.1984405517578\n",
            "epoch 40: w = -1.888 b = 12.879 loss = 175.87005615234375\n",
            "epoch 50: w = -2.247 b = 14.645 loss = 142.2704315185547\n",
            "epoch 60: w = -2.540 b = 16.089 loss = 119.8390884399414\n",
            "epoch 70: w = -2.780 b = 17.268 loss = 104.8637466430664\n",
            "epoch 80: w = -2.976 b = 18.231 loss = 94.86608123779297\n",
            "epoch 90: w = -3.136 b = 19.018 loss = 88.19155883789062\n",
            "epoch 100: w = -3.267 b = 19.662 loss = 83.73558807373047\n",
            "epoch 110: w = -3.373 b = 20.187 loss = 80.76075744628906\n",
            "epoch 120: w = -3.461 b = 20.617 loss = 78.77471923828125\n",
            "epoch 130: w = -3.532 b = 20.967 loss = 77.44884490966797\n",
            "epoch 140: w = -3.590 b = 21.254 loss = 76.56366729736328\n",
            "epoch 150: w = -3.638 b = 21.488 loss = 75.97272491455078\n",
            "epoch 160: w = -3.677 b = 21.680 loss = 75.5782241821289\n",
            "epoch 170: w = -3.709 b = 21.836 loss = 75.31482696533203\n",
            "epoch 180: w = -3.735 b = 21.964 loss = 75.13898468017578\n",
            "epoch 190: w = -3.756 b = 22.068 loss = 75.02159881591797\n",
            "epoch 200: w = -3.773 b = 22.154 loss = 74.9432144165039\n"
          ],
          "name": "stdout"
        },
        {
          "output_type": "display_data",
          "data": {
            "image/png": "[encoded data removed]",
            "text/plain": [
              "<Figure size 432x288 with 1 Axes>"
            ]
          },
          "metadata": {
            "tags": [],
            "needs_background": "light"
          }
        }
      ]
    }
  ]
}