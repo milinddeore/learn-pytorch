{
  "nbformat": 4,
  "nbformat_minor": 0,
  "metadata": {
    "colab": {
      "name": "05_linear_regression_auto.ipynb",
      "provenance": [],
      "collapsed_sections": []
    },
    "kernelspec": {
      "name": "python3",
      "display_name": "Python 3"
    }
  },
  "cells": [
    {
      "cell_type": "markdown",
      "metadata": {
        "id": "vsmZaZJWRgks",
        "colab_type": "text"
      },
      "source": [
        "## Linear Regression -- Converting manual computation to automatic\n",
        "In this exercise we will convert manual computation of `forward()` `backward()` and `loss()` to pytorch framework functions. "
      ]
    },
    {
      "cell_type": "markdown",
      "metadata": {
        "id": "s3tfmRFLSyt5",
        "colab_type": "text"
      },
      "source": [
        "**A Recap**\n",
        " For each epoch, we computed following: \n",
        "\n",
        "*   `forward()` : Nodes operation and output prediction.\n",
        "*   `loss()` : Calculated the loss between expected VS predicted outputs.\n",
        "*   `backward()` : Computed gradients.\n",
        "*   `nudge weights` : Updated weights. \n",
        "\n",
        "Ran `n` number of epochs to reduce loss to minimum. This loop is called **Training Loop**. \n",
        "\n",
        "At a point where the loss is minimum and it do not decrease any further is the time where we can stop training. These trained weights are called **model**, this model is used for further predictions, called **inference**. During inference we just run forward pass and weights remain unchanged. "
      ]
    },
    {
      "cell_type": "code",
      "metadata": {
        "id": "y4NPy_26PhSW",
        "colab_type": "code",
        "colab": {}
      },
      "source": [
        "#\n",
        "# Input data\n",
        "# x = [1, 2, 3, 4, 5]\n",
        "# y = [2, 4, 5, 4, 5]\n",
        "# Expected output\n",
        "# w = 0.6\n",
        "\n",
        "from __future__ import print_function\n",
        "import torch \n",
        "import torch.nn as nn\n",
        "import matplotlib.pyplot as plt\n",
        "\n",
        "# For reproducible results. \n",
        "def torch_seeding(seed):\n",
        "    if torch.cuda.is_available():\n",
        "      # for CUDA\n",
        "      if torch.cuda.device_count() > 1:\n",
        "        torch.cuda.manual_seed_all(seed)\n",
        "      else:\n",
        "        torch.cuda.manual_seed(seed)\n",
        "      if torch.backends.cudnn.is_available():\n",
        "        torch.backends.cudnn.deterministic=True\n",
        "\n",
        "      return torch.device(\"cuda:0\")\n",
        "\n",
        "    else:\n",
        "      # for CPU\n",
        "      torch.manual_seed(seed)\n",
        "\n",
        "      return torch.device(\"cpu\")\n",
        "\n",
        "device = torch_seeding(1122)"
      ],
      "execution_count": 0,
      "outputs": []
    },
    {
      "cell_type": "code",
      "metadata": {
        "id": "5nuxiXMDX7hx",
        "colab_type": "code",
        "colab": {}
      },
      "source": [
        "X = torch.tensor([[1], [2], [3], [4], [5]], dtype=torch.float32)\n",
        "Y = torch.tensor([[2], [4], [5], [4], [5]], dtype=torch.float32)"
      ],
      "execution_count": 0,
      "outputs": []
    },
    {
      "cell_type": "code",
      "metadata": {
        "id": "vWsjL32SPhMM",
        "colab_type": "code",
        "colab": {}
      },
      "source": [
        "# From now on we will call forward() as our model.\n",
        "model = nn.Linear(X.shape[1], Y.shape[1])"
      ],
      "execution_count": 0,
      "outputs": []
    },
    {
      "cell_type": "markdown",
      "metadata": {
        "id": "C6vcM22VW0LA",
        "colab_type": "text"
      },
      "source": [
        "Wait! this is the first framework API we used to built Linear model. For its documentaion please [visit](https://pytorch.org/docs/stable/nn.html#torch.nn.Linear). Where, Parameters:\n",
        "\n",
        "\n",
        "\n",
        "bias – If set to False, the layer will not learn an additive bias. Default: True\n",
        "\n",
        "*   **in_features** – size of each input sample (i.e. size of x)\n",
        "*   **out_features** – size of each output sample (i.e. size of y)\n",
        "*   **bias** – If set to False, the layer will not learn an additive bias. Default: True\n",
        "\n"
      ]
    },
    {
      "cell_type": "markdown",
      "metadata": {
        "id": "GoAp5b8YFQSb",
        "colab_type": "text"
      },
      "source": [
        "In the below code snippet, we are using MSE `nn.MSELoss()` to calculate the loss and `torch.optim.SGD` optimizer for weights update.   "
      ]
    },
    {
      "cell_type": "code",
      "metadata": {
        "id": "Pdu-Q3iacbF1",
        "colab_type": "code",
        "outputId": "9df04966-22f5-439a-ce79-2aa89a0bb273",
        "colab": {
          "base_uri": "https://localhost:8080/",
          "height": 272
        }
      },
      "source": [
        "lr = 0.01\n",
        "epochs = 1500\n",
        "\n",
        "loss = nn.MSELoss()\n",
        "optimizer = torch.optim.SGD(model.parameters(), lr=lr)\n",
        "\n",
        "# Training loop\n",
        "for epoch in range(epochs):\n",
        "    # forward pass\n",
        "    y_pred = model(X)\n",
        "\n",
        "    # loss\n",
        "    l = loss(y_pred, Y)\n",
        "\n",
        "    # clears old gradients from the last step\n",
        "    optimizer.zero_grad()\n",
        "\n",
        "    # backward pass\n",
        "    l.backward()\n",
        "\n",
        "    # nudge weights, causes optimizer to take a step based on the gradients of the parameters.\n",
        "    optimizer.step()\n",
        "\n",
        "    if epoch % 100 == 0:\n",
        "        [w, b] = model.parameters() # unpack parameters\n",
        "        print('epoch {}: w = {:.3f} b = {:.3f} loss = {}'.format((epoch+1), w.item(), b.item(), l))"
      ],
      "execution_count": 4,
      "outputs": [
        {
          "output_type": "stream",
          "text": [
            "epoch 1: w = 0.838 b = -0.670 loss = 7.684423923492432\n",
            "epoch 101: w = 1.138 b = 0.257 loss = 1.1720104217529297\n",
            "epoch 201: w = 0.984 b = 0.815 loss = 0.8315187692642212\n",
            "epoch 301: w = 0.873 b = 1.213 loss = 0.658560037612915\n",
            "epoch 401: w = 0.795 b = 1.496 loss = 0.570702850818634\n",
            "epoch 501: w = 0.739 b = 1.699 loss = 0.5260739326477051\n",
            "epoch 601: w = 0.699 b = 1.843 loss = 0.5034040212631226\n",
            "epoch 701: w = 0.671 b = 1.945 loss = 0.49188852310180664\n",
            "epoch 801: w = 0.650 b = 2.018 loss = 0.48603907227516174\n",
            "epoch 901: w = 0.636 b = 2.071 loss = 0.4830675721168518\n",
            "epoch 1001: w = 0.626 b = 2.108 loss = 0.4815581440925598\n",
            "epoch 1101: w = 0.618 b = 2.134 loss = 0.48079147934913635\n",
            "epoch 1201: w = 0.613 b = 2.153 loss = 0.48040199279785156\n",
            "epoch 1301: w = 0.609 b = 2.167 loss = 0.48020419478416443\n",
            "epoch 1401: w = 0.607 b = 2.176 loss = 0.48010382056236267\n"
          ],
          "name": "stdout"
        }
      ]
    },
    {
      "cell_type": "code",
      "metadata": {
        "id": "V3bqZIFiKAfP",
        "colab_type": "code",
        "outputId": "2c453da0-d580-4bca-8a96-a9061d13a2a5",
        "colab": {
          "base_uri": "https://localhost:8080/",
          "height": 51
        }
      },
      "source": [
        "model.weight"
      ],
      "execution_count": 5,
      "outputs": [
        {
          "output_type": "execute_result",
          "data": {
            "text/plain": [
              "Parameter containing:\n",
              "tensor([[0.6047]], requires_grad=True)"
            ]
          },
          "metadata": {
            "tags": []
          },
          "execution_count": 5
        }
      ]
    },
    {
      "cell_type": "code",
      "metadata": {
        "id": "I3xfjYXYKbD-",
        "colab_type": "code",
        "outputId": "08e97b05-0245-4e04-9126-d6fbd72ab3d9",
        "colab": {
          "base_uri": "https://localhost:8080/",
          "height": 102
        }
      },
      "source": [
        "# Number of parameters \n",
        "print('Number of parameters : {}'.format(len(list(model.parameters()))))\n",
        "print('\\nList of parameters : {}'.format(list(model.parameters())))"
      ],
      "execution_count": 6,
      "outputs": [
        {
          "output_type": "stream",
          "text": [
            "Number of parameters : 2\n",
            "\n",
            "List of parameters : [Parameter containing:\n",
            "tensor([[0.6047]], requires_grad=True), Parameter containing:\n",
            "tensor([2.1830], requires_grad=True)]\n"
          ],
          "name": "stdout"
        }
      ]
    },
    {
      "cell_type": "markdown",
      "metadata": {
        "id": "HOk75f1ON7JM",
        "colab_type": "text"
      },
      "source": [
        "# Working with large and Real dataset. \n",
        "We will perform the same exercise that we performed above but this time with sklearn toy dataset. Now that we are close to start playing with real world data, best time to read Andrej Karpathy's article '[A Recipe for Training Neural Networks](http://karpathy.github.io/2019/04/25/recipe/)'. Honestly, to me this is real GEM :)  "
      ]
    },
    {
      "cell_type": "code",
      "metadata": {
        "id": "SdssRp74ZiBw",
        "colab_type": "code",
        "colab": {}
      },
      "source": [
        "from __future__ import print_function\n",
        "import torch\n",
        "import torch.nn as nn\n",
        "import numpy as np\n",
        "from sklearn.datasets import load_boston\n",
        "from sklearn.preprocessing import StandardScaler\n",
        "from sklearn.model_selection import train_test_split\n",
        "import matplotlib.pyplot as plt"
      ],
      "execution_count": 0,
      "outputs": []
    },
    {
      "cell_type": "code",
      "metadata": {
        "id": "hhUPJ1bscP5P",
        "colab_type": "code",
        "outputId": "ab02fd3a-4142-480d-c617-d8a7a4c3ca73",
        "colab": {
          "base_uri": "https://localhost:8080/",
          "height": 265
        }
      },
      "source": [
        "# Toy dataset\n",
        "boston = load_boston()\n",
        "X, Y = boston.data, boston.target\n",
        "\n",
        "X_train, X_test, Y_train, Y_test = train_test_split(X, Y, test_size=0.25, random_state=999)\n",
        "X_train = X_train[:, 4:5]\n",
        "\n",
        "# Z-Score : Normalize and standardized data (z = (x - u) / s)\n",
        "sc = StandardScaler()\n",
        "X_train = sc.fit_transform(X_train)\n",
        "X_test = sc.transform(X_test)\n",
        "plt.plot(X_train, Y_train, 'rx')\n",
        "\n",
        "X_train = torch.from_numpy(X_train.astype(np.float32))\n",
        "X_test = torch.from_numpy(X_test.astype(np.float32))\n",
        "Y_train = torch.from_numpy(Y_train.astype(np.float32))\n",
        "Y_test = torch.from_numpy(Y_test.astype(np.float32))\n",
        "\n",
        "Y_train = Y_train.view(Y_train.shape[0], 1)\n",
        "Y_test = Y_test.view(Y_test.shape[0], 1)"
      ],
      "execution_count": 8,
      "outputs": [
        {
          "output_type": "display_data",
          "data": {
            "image/png": "[encoded data removed]",
            "text/plain": [
              "<Figure size 432x288 with 1 Axes>"
            ]
          },
          "metadata": {
            "tags": [],
            "needs_background": "light"
          }
        }
      ]
    },
    {
      "cell_type": "code",
      "metadata": {
        "id": "huDGgLP84zqg",
        "colab_type": "code",
        "outputId": "d4f0de5f-933e-4a5a-baf9-1191de5441b5",
        "colab": {
          "base_uri": "https://localhost:8080/",
          "height": 605
        }
      },
      "source": [
        "num_samples, num_features = X_train.shape\n",
        "\n",
        "# Linear Model\n",
        "model = nn.Linear(num_features, 1)\n",
        "\n",
        "lr = 0.01\n",
        "loss = nn.MSELoss()\n",
        "optimizer = torch.optim.SGD(model.parameters(), lr=lr)\n",
        "\n",
        "# Training loop\n",
        "epochs = 200\n",
        "for epoch in range(epochs):\n",
        "    \n",
        "    # forward pass\n",
        "    Y_pred = model(X_train)\n",
        "\n",
        "    # loss\n",
        "    l = loss(Y_pred, Y_train)\n",
        "    \n",
        "    # clears old gradients from the last step\n",
        "    optimizer.zero_grad()\n",
        "\n",
        "    # Backward pass and update\n",
        "    l.backward()\n",
        "    \n",
        "    # nudge weights, causes optimizer to take a step based on the gradients of the parameters.\n",
        "    optimizer.step()\n",
        "\n",
        "    if (epoch+1) % 10 == 0:\n",
        "        [w, b] = model.parameters() # unpack parameters\n",
        "        print('epoch {}: w = {:.3f} b = {:.3f} loss = {}'.format((epoch+1), w.item(), b.item(), l))\n",
        "\n",
        "# Inference: all the X_train points.  \n",
        "predicted = model(X_train).detach().numpy()\n",
        "plt.plot(X_train, Y_train, 'rx')\n",
        "plt.plot(X_train, predicted, 'b')\n",
        "plt.show()"
      ],
      "execution_count": 9,
      "outputs": [
        {
          "output_type": "stream",
          "text": [
            "epoch 10: w = -0.601 b = 3.626 loss = 458.0672912597656\n",
            "epoch 20: w = -1.195 b = 7.085 loss = 330.66754150390625\n",
            "epoch 30: w = -1.681 b = 9.911 loss = 245.61444091796875\n",
            "epoch 40: w = -2.078 b = 12.220 loss = 188.83236694335938\n",
            "epoch 50: w = -2.402 b = 14.107 loss = 150.9242401123047\n",
            "epoch 60: w = -2.667 b = 15.649 loss = 125.6164321899414\n",
            "epoch 70: w = -2.884 b = 16.908 loss = 108.72075653076172\n",
            "epoch 80: w = -3.061 b = 17.937 loss = 97.44104766845703\n",
            "epoch 90: w = -3.205 b = 18.778 loss = 89.91060638427734\n",
            "epoch 100: w = -3.323 b = 19.465 loss = 84.88324737548828\n",
            "epoch 110: w = -3.420 b = 20.027 loss = 81.52694702148438\n",
            "epoch 120: w = -3.499 b = 20.486 loss = 79.28627014160156\n",
            "epoch 130: w = -3.563 b = 20.860 loss = 77.79035186767578\n",
            "epoch 140: w = -3.616 b = 21.167 loss = 76.79166412353516\n",
            "epoch 150: w = -3.659 b = 21.417 loss = 76.12493896484375\n",
            "epoch 160: w = -3.694 b = 21.621 loss = 75.67981719970703\n",
            "epoch 170: w = -3.723 b = 21.788 loss = 75.3826675415039\n",
            "epoch 180: w = -3.746 b = 21.925 loss = 75.18424987792969\n",
            "epoch 190: w = -3.765 b = 22.036 loss = 75.05181884765625\n",
            "epoch 200: w = -3.781 b = 22.128 loss = 74.96338653564453\n"
          ],
          "name": "stdout"
        },
        {
          "output_type": "display_data",
          "data": {
            "image/png": "[encoded data removed]",
            "text/plain": [
              "<Figure size 432x288 with 1 Axes>"
            ]
          },
          "metadata": {
            "tags": [],
            "needs_background": "light"
          }
        }
      ]
    }
  ]
}