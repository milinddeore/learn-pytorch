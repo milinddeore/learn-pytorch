{
  "nbformat": 4,
  "nbformat_minor": 0,
  "metadata": {
    "colab": {
      "name": "07_data_generator.ipynb",
      "provenance": [],
      "collapsed_sections": []
    },
    "kernelspec": {
      "name": "python3",
      "display_name": "Python 3"
    },
    "accelerator": "GPU"
  },
  "cells": [
    {
      "cell_type": "markdown",
      "metadata": {
        "id": "Ica2GWQ8AKLM",
        "colab_type": "text"
      },
      "source": [
        "## Data Loading Components \n",
        "Three components in Data Loading Components:\n",
        "\n",
        "\n",
        "\n",
        "1.   **Dataset** : Collection of data samples (index --> sample)\n",
        "2.   **Sampler** : Specifiy data fetching order (iterate over data indicies)\n",
        "3.   **Dataloader** : Handle data loading logic (collection of batches, single or multi-process loading.)\n",
        "\n",
        "More details about dataloader is [here](https://pytorch.org/docs/stable/data.html)\n",
        "\n",
        "\n",
        "\n"
      ]
    },
    {
      "cell_type": "code",
      "metadata": {
        "id": "Z0PKfA6zaC_M",
        "colab_type": "code",
        "colab": {}
      },
      "source": [
        "import torch\n",
        "import torchvision\n",
        "from sklearn.datasets import load_wine\n",
        "from torch.utils.data import Dataset, DataLoader\n",
        "import math"
      ],
      "execution_count": 0,
      "outputs": []
    },
    {
      "cell_type": "markdown",
      "metadata": {
        "id": "GScbBJOVULaH",
        "colab_type": "text"
      },
      "source": [
        "### If, dataset is CSV"
      ]
    },
    {
      "cell_type": "code",
      "metadata": {
        "id": "tn3wRPuDtGSR",
        "colab_type": "code",
        "colab": {}
      },
      "source": [
        "#Dataset for CSV\n",
        "\n",
        "class CsvDataset(Dataset):\n",
        "\n",
        "    def __init__(self):\n",
        "        # load data and extract the required inputs.\n",
        "        raw_data = load_wine()\n",
        "        \n",
        "        self.x_data = torch.tensor(raw_data['data'], dtype=torch.float32)\n",
        "        self.y_data = torch.tensor(raw_data['target'], dtype=torch.float32)\n",
        "\n",
        "        # sanity checks\n",
        "        if self.x_data.shape[0] != self.y_data.shape[0]:\n",
        "            raise ValueError('x and y data shape mismatch')\n",
        "        self.n_samples = len(raw_data['data'])\n",
        "\n",
        "    # support indexing such that dataset[i] can be used to get i-th sample\n",
        "    def __getitem__(self, index):\n",
        "        return self.x_data[index], self.y_data[index]\n",
        "\n",
        "    # we can call len(dataset) to return the size\n",
        "    def __len__(self):\n",
        "        return self.n_samples\n",
        "\n",
        "# create dataset object\n",
        "train_dataset = CsvDataset()"
      ],
      "execution_count": 0,
      "outputs": []
    },
    {
      "cell_type": "markdown",
      "metadata": {
        "id": "tpu5uSTKUG8_",
        "colab_type": "text"
      },
      "source": [
        "### If, data is in Pandas dataframe"
      ]
    },
    {
      "cell_type": "code",
      "metadata": {
        "id": "g39AXbSPALkc",
        "colab_type": "code",
        "colab": {}
      },
      "source": [
        "import pandas as pd\n",
        "\n",
        "# Pandas dataset \n",
        "\n",
        "class PdDataset(Dataset):\n",
        "\n",
        "    def __init__(self):\n",
        "        # read pandas dataframe\n",
        "        raw_data = load_wine()\n",
        "        df_data = pd.DataFrame(data=raw_data['data'],columns=raw_data['feature_names'])\n",
        "\n",
        "        self.x_data = torch.tensor(df_data.values, dtype=torch.float32)\n",
        "        self.y_data = torch.tensor(raw_data['target'], dtype=torch.float32)\n",
        "        \n",
        "        # sanity checks\n",
        "        if self.x_data.shape[0] != self.y_data.shape[0]:\n",
        "            raise ValueError('x and y data shape mismatch')\n",
        "        self.n_samples = df_data.shape[0]\n",
        "\n",
        "    # support indexing such that dataset[i] can be used to get i-th sample\n",
        "    def __getitem__(self, index):\n",
        "        return self.x_data[index], self.y_data[index]\n",
        "\n",
        "    # we can call len(dataset) to return the size\n",
        "    def __len__(self):\n",
        "        return self.n_samples\n",
        "\n",
        "# create dataset object\n",
        "train_dataset = PdDataset()"
      ],
      "execution_count": 0,
      "outputs": []
    },
    {
      "cell_type": "markdown",
      "metadata": {
        "id": "DIXnLaMKT9cb",
        "colab_type": "text"
      },
      "source": [
        "### If, toy torchvision datasets:\n",
        "Long list of datasets are [here](https://pytorch.org/docs/stable/torchvision/datasets.html)"
      ]
    },
    {
      "cell_type": "code",
      "metadata": {
        "id": "ZI34aThoTsVB",
        "colab_type": "code",
        "colab": {}
      },
      "source": [
        "# torchvision datasets\n",
        "\n",
        "train_dataset = torchvision.datasets.MNIST(root='./data', \n",
        "                                           train=True, \n",
        "                                           transform=torchvision.transforms.ToTensor(),  \n",
        "                                           download=True)"
      ],
      "execution_count": 0,
      "outputs": []
    },
    {
      "cell_type": "code",
      "metadata": {
        "id": "CX_ohbEZepuY",
        "colab_type": "code",
        "colab": {}
      },
      "source": [
        "# handle whole dataset with DataLoader\n",
        "train_loader = DataLoader(dataset=train_dataset,\n",
        "                          batch_size=5,\n",
        "                          shuffle=True,\n",
        "                          num_workers=2)"
      ],
      "execution_count": 0,
      "outputs": []
    },
    {
      "cell_type": "code",
      "metadata": {
        "id": "Y1aT2F0keaxi",
        "colab_type": "code",
        "colab": {
          "base_uri": "https://localhost:8080/",
          "height": 306
        },
        "outputId": "d65c9c48-8711-4d81-8c9f-d9afda94f900"
      },
      "source": [
        "# make it iterable\n",
        "dataiter = iter(train_loader)\n",
        "trn = dataiter.next()\n",
        "features_tensor, labels_tensor = trn\n",
        "print(features_tensor, labels_tensor)\n",
        "print('Tensor : {}x{}'.format(len(features_tensor), len(labels_tensor)))\n",
        "print('Shapes : {} {}'.format(features_tensor.shape, labels_tensor.shape))"
      ],
      "execution_count": 4,
      "outputs": [
        {
          "output_type": "stream",
          "text": [
            "tensor([[1.4390e+01, 1.8700e+00, 2.4500e+00, 1.4600e+01, 9.6000e+01, 2.5000e+00,\n",
            "         2.5200e+00, 3.0000e-01, 1.9800e+00, 5.2500e+00, 1.0200e+00, 3.5800e+00,\n",
            "         1.2900e+03],\n",
            "        [1.3280e+01, 1.6400e+00, 2.8400e+00, 1.5500e+01, 1.1000e+02, 2.6000e+00,\n",
            "         2.6800e+00, 3.4000e-01, 1.3600e+00, 4.6000e+00, 1.0900e+00, 2.7800e+00,\n",
            "         8.8000e+02],\n",
            "        [1.4100e+01, 2.1600e+00, 2.3000e+00, 1.8000e+01, 1.0500e+02, 2.9500e+00,\n",
            "         3.3200e+00, 2.2000e-01, 2.3800e+00, 5.7500e+00, 1.2500e+00, 3.1700e+00,\n",
            "         1.5100e+03],\n",
            "        [1.3860e+01, 1.3500e+00, 2.2700e+00, 1.6000e+01, 9.8000e+01, 2.9800e+00,\n",
            "         3.1500e+00, 2.2000e-01, 1.8500e+00, 7.2200e+00, 1.0100e+00, 3.5500e+00,\n",
            "         1.0450e+03],\n",
            "        [1.2850e+01, 3.2700e+00, 2.5800e+00, 2.2000e+01, 1.0600e+02, 1.6500e+00,\n",
            "         6.0000e-01, 6.0000e-01, 9.6000e-01, 5.5800e+00, 8.7000e-01, 2.1100e+00,\n",
            "         5.7000e+02]]) tensor([0., 0., 0., 0., 2.])\n",
            "Tensor : 5x5\n",
            "Shapes : torch.Size([5, 13]) torch.Size([5])\n"
          ],
          "name": "stdout"
        }
      ]
    },
    {
      "cell_type": "code",
      "metadata": {
        "id": "m_3Rw_2nDI73",
        "colab_type": "code",
        "colab": {
          "base_uri": "https://localhost:8080/",
          "height": 119
        },
        "outputId": "35e68e86-3cc7-43a8-c017-3c4d9fdd377b"
      },
      "source": [
        "\n",
        "# demo training loop\n",
        "# num_iter = total_sample / batch_size\n",
        "num_epochs = 2\n",
        "batch_sz = 5 # One of the important hyper parameter.\n",
        "\n",
        "num_iterations = math.ceil(len(train_dataset)/batch_sz)\n",
        "\n",
        "for epoch in range(num_epochs):\n",
        "    for i, (inputs, labels) in enumerate(train_loader):\n",
        "        \n",
        "        if (i+1) % 10 == 0:\n",
        "            print('Epoch: {}/{}, Step {}/{}'.format(epoch+1, num_epochs, i+1, num_iterations))\n"
      ],
      "execution_count": 5,
      "outputs": [
        {
          "output_type": "stream",
          "text": [
            "Epoch: 1/2, Step 10/36\n",
            "Epoch: 1/2, Step 20/36\n",
            "Epoch: 1/2, Step 30/36\n",
            "Epoch: 2/2, Step 10/36\n",
            "Epoch: 2/2, Step 20/36\n",
            "Epoch: 2/2, Step 30/36\n"
          ],
          "name": "stdout"
        }
      ]
    }
  ]
}