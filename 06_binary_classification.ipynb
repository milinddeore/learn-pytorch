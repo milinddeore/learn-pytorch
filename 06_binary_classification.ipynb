{
  "nbformat": 4,
  "nbformat_minor": 0,
  "metadata": {
    "colab": {
      "name": "06_binary_classification.ipynb",
      "provenance": []
    },
    "kernelspec": {
      "name": "python3",
      "display_name": "Python 3"
    }
  },
  "cells": [
    {
      "cell_type": "markdown",
      "metadata": {
        "id": "h-S9X1RhVi5X",
        "colab_type": "text"
      },
      "source": [
        "## Binary Logistic Regression - Cancer OR Not \n",
        "For logistics regression to work, we need the output prediction to be binary (0 or 1), this can be achieved by using a special type of activation function called sigmoid. It looks like following :\n",
        "\n",
        "![alt text](https://www.oreilly.com/library/view/artificial-intelligence-for/9781788472173/assets/256c02ea-ce48-445c-9346-c9863f8a4f8a.png)\n",
        "\n",
        "The loss is calculated using sigmoid cross entropy is also called binary cross entropy. \n"
      ]
    },
    {
      "cell_type": "code",
      "metadata": {
        "id": "cISlK9Q0k7EZ",
        "colab_type": "code",
        "colab": {
          "base_uri": "https://localhost:8080/",
          "height": 34
        },
        "outputId": "573bda78-01fe-475b-98e3-c167af83484a"
      },
      "source": [
        "from __future__ import print_function\n",
        "import torch\n",
        "import torch.nn as nn\n",
        "import numpy as np\n",
        "from sklearn import datasets\n",
        "from sklearn.metrics import confusion_matrix\n",
        "from sklearn.preprocessing import StandardScaler\n",
        "from sklearn.model_selection import train_test_split\n",
        "import matplotlib.pyplot as plt\n",
        "\n",
        "seed = 2277\n",
        "torch.manual_seed(seed)"
      ],
      "execution_count": 82,
      "outputs": [
        {
          "output_type": "execute_result",
          "data": {
            "text/plain": [
              "<torch._C.Generator at 0x7f760e5d5110>"
            ]
          },
          "metadata": {
            "tags": []
          },
          "execution_count": 82
        }
      ]
    },
    {
      "cell_type": "code",
      "metadata": {
        "id": "27BLJS_HEVN8",
        "colab_type": "code",
        "colab": {
          "base_uri": "https://localhost:8080/",
          "height": 265
        },
        "outputId": "a03c54c2-c403-4b18-a8ef-870db85b9e8e"
      },
      "source": [
        "# Sklearn Breast cancer, dataset.\n",
        "\n",
        "cancer = datasets.load_breast_cancer()\n",
        "X, Y = cancer.data, cancer.target\n",
        "\n",
        "X_train, X_test, Y_train, Y_test = train_test_split(X, Y, test_size=0.25, random_state=999)\n",
        "\n",
        "# Z-Score : Normalize and standardized data (z = (x - u) / s)\n",
        "sc = StandardScaler()\n",
        "X_train = sc.fit_transform(X_train)\n",
        "X_test = sc.transform(X_test)\n",
        "plt.plot(X_train, Y_train, 'rx')\n",
        "\n",
        "X_train = torch.from_numpy(X_train.astype(np.float32))\n",
        "X_test = torch.from_numpy(X_test.astype(np.float32))\n",
        "Y_train = torch.from_numpy(Y_train.astype(np.float32))\n",
        "Y_test = torch.from_numpy(Y_test.astype(np.float32))\n",
        "\n",
        "Y_train = Y_train.view(Y_train.shape[0], 1)\n",
        "Y_test = Y_test.view(Y_test.shape[0], 1)"
      ],
      "execution_count": 83,
      "outputs": [
        {
          "output_type": "display_data",
          "data": {
            "image/png": "[encoded data removed]",
            "text/plain": [
              "<Figure size 432x288 with 1 Axes>"
            ]
          },
          "metadata": {
            "tags": [],
            "needs_background": "light"
          }
        }
      ]
    },
    {
      "cell_type": "code",
      "metadata": {
        "id": "Nr-062Umcb3P",
        "colab_type": "code",
        "colab": {}
      },
      "source": [
        "num_samples, num_features = X_train.shape\n",
        "\n",
        "# Cancer Model with sigmod activation function (for binary classification)\n",
        "# We are overridding the forward method in this inherited class. \n",
        "class CancerModel(nn.Module):\n",
        "    def __init__(self, num_features):\n",
        "        super(CancerModel, self).__init__()\n",
        "        self.linear = nn.Linear(num_features, 1)\n",
        "\n",
        "    def forward(self, x):\n",
        "        y_pred = torch.sigmoid(self.linear(x))\n",
        "        return y_pred\n",
        "\n",
        "model = CancerModel(num_features)\n"
      ],
      "execution_count": 0,
      "outputs": []
    },
    {
      "cell_type": "code",
      "metadata": {
        "id": "TNLWELynEVI_",
        "colab_type": "code",
        "colab": {
          "base_uri": "https://localhost:8080/",
          "height": 170
        },
        "outputId": "1353cdb4-b758-4e75-ff61-f962bda55b00"
      },
      "source": [
        "\n",
        "lr = 0.01\n",
        "loss = nn.BCELoss()\n",
        "optimizer = torch.optim.Adam(model.parameters(), lr=lr)\n",
        "\n",
        "# Training loop\n",
        "epochs = 50\n",
        "for epoch in range(epochs):\n",
        "    \n",
        "    # forward pass\n",
        "    Y_pred = model(X_train)\n",
        "\n",
        "    # loss\n",
        "    l = loss(Y_pred, Y_train)\n",
        "    \n",
        "    # Backward pass and update\n",
        "    l.backward()\n",
        "    \n",
        "    # nudge weights, causes optimizer to take a step based on the gradients of the parameters.\n",
        "    optimizer.step()\n",
        "\n",
        "    # clears old gradients from the last step\n",
        "    optimizer.zero_grad()\n",
        "\n",
        "    if (epoch+1) % 10 == 0:\n",
        "        #[w, b] = model.parameters() # unpack parameters\n",
        "        print('epoch {}: loss = {}'.format((epoch+1), l.item()))\n",
        "\n",
        "with torch.no_grad():\n",
        "    Y_predicted = model(X_test)\n",
        "    Y_predicted_cls = Y_predicted.round()\n",
        "    accuracy = Y_predicted_cls.eq(Y_test).sum() / float(Y_test.shape[0])\n",
        "    print('Accuracy : {:.3f}'.format(accuracy.item()))\n",
        "    print('Confusion Matrix : \\n{}'.format(confusion_matrix(Y_test, Y_predicted_cls)))\n"
      ],
      "execution_count": 85,
      "outputs": [
        {
          "output_type": "stream",
          "text": [
            "epoch 10: loss = 0.37365853786468506\n",
            "epoch 20: loss = 0.2319076806306839\n",
            "epoch 30: loss = 0.17477300763130188\n",
            "epoch 40: loss = 0.1458970010280609\n",
            "epoch 50: loss = 0.12855716049671173\n",
            "Accuracy : 0.986\n",
            "Confusion Matrix : \n",
            "[[61  2]\n",
            " [ 0 80]]\n"
          ],
          "name": "stdout"
        }
      ]
    }
  ]
}